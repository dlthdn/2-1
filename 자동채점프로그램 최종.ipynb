{
 "cells": [
  {
   "cell_type": "code",
   "execution_count": 6,
   "metadata": {},
   "outputs": [
    {
     "name": "stdout",
     "output_type": "stream",
     "text": [
      "채점하시는 과목명을 입력해주세요 : 생명과학실험\n",
      "채점하시는 시험지의 파일명을 입력해주세요 : 2604김소현\n",
      "채점 결과 :  2604김소현.csv 의 생명과학실험.csv 과목의 총점은 82.0 점입니다\n",
      "확인 사항 : ['13.1', '20.1'] 번은 그림을 그리는 문제이므로 시험지를 확인해주세요\n",
      "틀린 문제 : ['1.2', '2.1', '3.1', '4.1', '4.4', '5.4', '6.1', '6.3.2', '7', '17.1', '18.2.3'] 번 입니다\n"
     ]
    }
   ],
   "source": [
   "import csv\n",
   "\n", 
   "while True:\n",
   "    try:\n",
   "        subject = str(input(\"채점하시는 과목명을 입력해주세요 : \")) + \".csv\"  # 생명과학실험\n",
   "        number = []\n",
   "        answer = []\n",
   "        score = []\n",
   "        with open(subject) as f:\n",
   "            g = csv.reader(f)\n",
   "            for raw in g:\n",
   "                number.append(raw[0])\n",
   "                answer.append(raw[1])\n",
   "                score.append(raw[2])\n",
   "        break\n",
   "    except FileNotFoundError:\n",
   "        print(\"잘못된 과목명을 입력하셨습니다.\\n해당 과목명을 잘못 입력하셨거나 해당 과목 채점 파일이 존재하지 않습니다.\\n다시 한번 입력해주세요.\")\n",
   "\n",
   "while True:\n",
   "    try:\n",
   "        stpaper = str(input(\"채점하시는 시험지의 파일명을 입력해주세요 : \"))+\".csv\"  # 2604김소현, 2602 허민영\n",
   "        stanswer = []\n",
   "        with open(stpaper) as f:\n",
   "            g = csv.reader(f)\n",
   "            for raw in g:\n",
   "                stanswer.append(raw[1])\n",
   "        break\n",
   "    except FileNotFoundError:\n",
   "        print(\"잘못된 시험지 파일명을 입력하셨습니다.\\n해당 파일명을 잘못 입력하셨거나 해당 학생 시험지 파일이 존재하지 않습니다.\\n다시 한번 입력해주세요.\n",
   "new = []\n",
   "for i in range(0, len(answer)):\n",
   "    n = answer[i].split('/')\n",
   "    new.append(n)\n",
   "\n",
   "점수 = 0\n", #초기 점수 0으로 설정
   "오답 = []\n", #오답 번호 저장 리스트
   "그림문제 = []\n", #그림문제 번호 저장 리스트
   "for j in range(0, len(stanswer)):\n", #모든 문항에 대하여 반복
   "    txt = stanswer[j].upper()\n", #대소문자로 틀릴 가능성 배제
   "    sc = float(score[j])\n", #배점을 실수로 인식하기 위함
   "    cp = True\n", #초기 cp값은 True
   "    for i in range(len(new[j])):\n", #키워드가 전부 들어가 있는지 확인
   "        ans = new[j][i].upper()\n", 
   "        if ans in txt:\n",
   "            cp = True\n",
   "        if ans not in txt:\n", #키워드가 하나라도 없으면 False로 설정하여 오답처리
   "            cp = False\n",
   "            오답.append(number[j])\n",
   "            break\n",
   "        if str(ans) == '그림생략':\n", #그림문제는 따로 설정
   "            n = number[j]\n",
   "            그림문제.append(n)\n",
   "    if cp:\n", #총 점수는 맞은 것만 
   "        점수 += sc\n",
   "\n",
   "print('채점 결과 : ', stpaper.split('.')[0], '의', subject.split('.')[0], '과목의 총점은', 점수, '점입니다')\n",
   "print('확인 사항 :', str(그림문제), '번은 그림을 그리는 문제이므로 시험지를 확인해주세요')\n",
   "print('틀린 문제 :', str(오답), '번 입니다')"
   ]
  },
  {
   "cell_type": "code",
   "execution_count": null,
   "metadata": {},
   "outputs": [],
   "source": []
  }
 ],
 "metadata": {
  "kernelspec": {
   "display_name": "Python 3",
   "language": "python",
   "name": "python3"
  },
  "language_info": {
   "codemirror_mode": {
    "name": "ipython",
    "version": 3
   },
   "file_extension": ".py",
   "mimetype": "text/x-python",
   "name": "python",
   "nbconvert_exporter": "python",
   "pygments_lexer": "ipython3",
   "version": "3.7.1"
  }
 },
 "nbformat": 4,
 "nbformat_minor": 2
}
